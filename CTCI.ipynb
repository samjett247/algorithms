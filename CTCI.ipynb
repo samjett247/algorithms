{
 "cells": [
  {
   "cell_type": "markdown",
   "metadata": {},
   "source": [
    "<h1>Practice Problems for CTCI\n"
   ]
  },
  {
   "cell_type": "code",
   "execution_count": 23,
   "metadata": {},
   "outputs": [],
   "source": [
    "from __future__ import print_function\n",
    "import numpy as np\n",
    "from collections import deque\n",
    "from ipywidgets import interact, interactive, fixed, interact_manual\n",
    "import ipywidgets as widgets\n",
    "from pprint import pprint"
   ]
  },
  {
   "cell_type": "code",
   "execution_count": 24,
   "metadata": {},
   "outputs": [
    {
     "data": {
      "application/vnd.jupyter.widget-view+json": {
       "model_id": "2cbed202bc304460a3331dc663c2c611",
       "version_major": 2,
       "version_minor": 0
      },
      "text/plain": [
       "interactive(children=(Text(value='hello', description='str_in'), Output()), _dom_classes=('widget-interact',))"
      ]
     },
     "metadata": {},
     "output_type": "display_data"
    }
   ],
   "source": [
    "# 1.1\n",
    "@interact(str_in = 'hello')\n",
    "def check_duplicates(str_in):\n",
    "    \"\"\"\n",
    "    Checks to see if a string has duplicates. Returns True if duplicates exist, false if not\n",
    "    \"\"\"\n",
    "    if len(set(str_in)) != len(list(str_in)):\n",
    "        return True\n",
    "    else: \n",
    "        return False\n",
    "\n",
    "# Order of complexity of this approach is O(convert str to list) + O(convert str to set), which I think \n",
    "# are each O(n), so total is O(n)"
   ]
  },
  {
   "cell_type": "code",
   "execution_count": 25,
   "metadata": {},
   "outputs": [
    {
     "data": {
      "application/vnd.jupyter.widget-view+json": {
       "model_id": "b5babe7dc8d34dfb96d23bb0e9214f1f",
       "version_major": 2,
       "version_minor": 0
      },
      "text/plain": [
       "interactive(children=(Text(value='sam', description='str_in_1'), Text(value='mas', description='str_in_2'), Ou…"
      ]
     },
     "metadata": {},
     "output_type": "display_data"
    }
   ],
   "source": [
    "# 1.2\n",
    "StrIn1 = 'zach'\n",
    "StrIn2 = 'cazh'\n",
    "\n",
    "# The first approach we came up with was to sort both strings and then compare the results\n",
    "# This approach is O(nlg(n))\n",
    "# print(sorted(StrIn1) == sorted(StrIn2))\n",
    "\n",
    "# The second approach is more complex to implement, but gets to O(n)\n",
    "@interact(str_in_1 = 'sam', str_in_2='mas')\n",
    "def permutation_check(str_in_1, str_in_2):\n",
    "    \"\"\"\n",
    "    Returns True if str_in_1 and str_in_2 are permutations of one another, else False\n",
    "    Total algo is O(n)\n",
    "    \"\"\"\n",
    "    char_dict = {}\n",
    "    # O(n)\n",
    "    for char in str_in_1:\n",
    "        # O(1)\n",
    "        if char in char_dict:\n",
    "            # O(1)\n",
    "            char_dict[char]+=1\n",
    "        else:\n",
    "            # O(1)\n",
    "            char_dict[char] = 1\n",
    "    print(char_dict)\n",
    "    # O(n)\n",
    "    for char in str_in_2:\n",
    "        # O(1)\n",
    "        if char in char_dict:\n",
    "            char_dict[char]-=1\n",
    "        else: \n",
    "            return False\n",
    "    print(char_dict)\n",
    "    for key in char_dict.keys():\n",
    "        if char_dict[key] != 0:\n",
    "            return False\n",
    "    return True  \n",
    "        "
   ]
  },
  {
   "cell_type": "code",
   "execution_count": 26,
   "metadata": {},
   "outputs": [
    {
     "data": {
      "application/vnd.jupyter.widget-view+json": {
       "model_id": "f6cb8a190d144b78b09951c168279547",
       "version_major": 2,
       "version_minor": 0
      },
      "text/plain": [
       "interactive(children=(Text(value='a bfv vfv btb ksks vrkrkn cdknd', description='str_in'), Output()), _dom_cla…"
      ]
     },
     "metadata": {},
     "output_type": "display_data"
    }
   ],
   "source": [
    "# 1.3\n",
    "@interact(str_in ='a bfv vfv btb ksks vrkrkn cdknd' )\n",
    "def urlify(str_in):\n",
    "    \"\"\"\n",
    "    Converts all spaces in input string to %20 to work for URL encoding\n",
    "    O(n), because in Python list set is O(1) and list get is O(1)\n",
    "    \"\"\"\n",
    "    urlified_string = ''.join(['%20' if el== ' ' else el for el in str_in])\n",
    "    return urlified_string\n"
   ]
  },
  {
   "cell_type": "code",
   "execution_count": 27,
   "metadata": {},
   "outputs": [
    {
     "data": {
      "application/vnd.jupyter.widget-view+json": {
       "model_id": "5b7f07605afc4c2bb0279acaea82451e",
       "version_major": 2,
       "version_minor": 0
      },
      "text/plain": [
       "interactive(children=(Text(value='happys', description='str_in'), Output()), _dom_classes=('widget-interact',)…"
      ]
     },
     "metadata": {},
     "output_type": "display_data"
    }
   ],
   "source": [
    "# 1.4\n",
    "# The key here is to build a dict of the character values, then run through the dict, checking to see that it meets palindrome conditions, those being:\n",
    "# All characters except for one will appear an even number of times. A single character will appear an odd number of times. We can use a bool representation \n",
    "# to signify the character appearances\n",
    "@interact(str_in = 'happys')\n",
    "def check_palindrome(str_in):\n",
    "    \"\"\"\n",
    "    Returns true if the input string characters have a palindromic form, else returns False\n",
    "    \"\"\"\n",
    "    char_dict = {}\n",
    "    # O(n)\n",
    "    odd_chars=0 # Keep a counter for odd chars\n",
    "    for char in str_in:\n",
    "        # O(1)\n",
    "        if char == ' ':\n",
    "            pass\n",
    "        elif char in char_dict:\n",
    "            # O(1)\n",
    "            if char_dict[char]:\n",
    "                odd_chars-=1\n",
    "            else:\n",
    "                odd_chars +=1\n",
    "            char_dict[char]= not char_dict[char]\n",
    "        else:\n",
    "            # O(1)\n",
    "            char_dict[char] = True\n",
    "            odd_chars +=1\n",
    "        print(odd_chars)\n",
    "    # Compute the counts within the hash map\n",
    "    return [True if odd_chars<=1 else False][0] # Ensure there are "
   ]
  },
  {
   "cell_type": "code",
   "execution_count": 32,
   "metadata": {},
   "outputs": [
    {
     "data": {
      "application/vnd.jupyter.widget-view+json": {
       "model_id": "13b6a6f0498f4f2f8527e0721c793bf0",
       "version_major": 2,
       "version_minor": 0
      },
      "text/plain": [
       "interactive(children=(Text(value='pale', description='str1'), Text(value='ple', description='str2'), Output())…"
      ]
     },
     "metadata": {},
     "output_type": "display_data"
    }
   ],
   "source": [
    "# 1.5 \n",
    "# Three types of edits, check to see if the strings are one edit or zero edits away\n",
    "# It doesnt matter which string you operate on, so just pick1 and stick with that as str1\n",
    "# Slow strategy would be walk through each character i in str1, change it if str1[i] != str2[i] (try delete, insert, and replace with str[2]), \n",
    "# then walk through the rest of the string, and if there are any other mismatches, it fails\n",
    "# O(n), where n length of str1, ~str2\n",
    "\n",
    "# Check the length of the strings first; This will tell us what kind of operation we should look for\n",
    "\n",
    "@interact(str1 = 'pale', str2='ple')\n",
    "def one_edit_away(str1, str2):\n",
    "    i=0; j=0\n",
    "    edited = False\n",
    "    # Insert into str1 routine\n",
    "    if len(str1) < len(str2):\n",
    "        while i < len(str1):\n",
    "            if str1[i] != str2[j]:\n",
    "                j+=1\n",
    "                if edited:\n",
    "                    return False\n",
    "                else:\n",
    "                    edited=True\n",
    "            else:\n",
    "                i+=1\n",
    "                j+=1\n",
    "        return True\n",
    "                \n",
    "    # Replace routine\n",
    "    elif len(str1) == len(str2):\n",
    "        while i < len(str1)-1:\n",
    "            if str1[i] != str2[j]:\n",
    "                if edited:\n",
    "                    return False\n",
    "                else:\n",
    "                    edited=True\n",
    "            i+=1\n",
    "            j+=1\n",
    "        return True\n",
    "                \n",
    "    # str2 longer than str1, call func with strings switched\n",
    "    else:\n",
    "        return one_edit_away(str2, str1)\n",
    "        \n",
    "# "
   ]
  },
  {
   "cell_type": "code",
   "execution_count": 28,
   "metadata": {},
   "outputs": [
    {
     "data": {
      "application/vnd.jupyter.widget-view+json": {
       "model_id": "43e076946b544cb294ef85c271032537",
       "version_major": 2,
       "version_minor": 0
      },
      "text/plain": [
       "interactive(children=(Text(value='compressthisss', description='str_in'), Output()), _dom_classes=('widget-int…"
      ]
     },
     "metadata": {},
     "output_type": "display_data"
    }
   ],
   "source": [
    "# 1.6 \n",
    "# Going to try a recursive strategy for this one\n",
    "@interact(str_in = 'compressthisss')\n",
    "def compression_wrapper(str_in):\n",
    "    def recursive_string_compression(str_in, compressed, active_char, count):\n",
    "        # Base case describing when to stop recursing\n",
    "        if len(str_in)==0:\n",
    "            return f'{compressed}{active_char}{count}'\n",
    "        # If the active char is still active, increment the count, retain active_char\n",
    "        if str_in[0]==active_char:\n",
    "            return recursive_string_compression(str_in[1:], compressed, active_char, count+1)\n",
    "        # Else update the compressed string and get the new active char\n",
    "        else:\n",
    "            return recursive_string_compression(str_in[1:], f'{compressed}{active_char}{count}', str_in[0], 1)\n",
    "    return recursive_string_compression(str_in[1:], '', str_in[0], 1)\n"
   ]
  },
  {
   "cell_type": "code",
   "execution_count": 22,
   "metadata": {},
   "outputs": [
    {
     "name": "stdout",
     "output_type": "stream",
     "text": [
      "0, 0 swaps with 0, 3\n",
      "0, 1 swaps with 1, 3\n",
      "0, 2 swaps with 2, 3\n",
      "0, 3 swaps with 3, 3\n",
      "1, 0 swaps with 0, 2\n",
      "1, 1 swaps with 1, 2\n",
      "1, 2 swaps with 2, 2\n",
      "1, 3 swaps with 3, 2\n",
      "2, 0 swaps with 0, 1\n",
      "2, 1 swaps with 1, 1\n",
      "2, 2 swaps with 2, 1\n",
      "2, 3 swaps with 3, 1\n",
      "3, 0 swaps with 0, 0\n",
      "3, 1 swaps with 1, 0\n",
      "3, 2 swaps with 2, 0\n",
      "3, 3 swaps with 3, 0\n",
      "[4, 8, 12, 16]\n",
      "[3, 7, 11, 15]\n",
      "[2, 6, 10, 14]\n",
      "[1, 5, 9, 13]\n"
     ]
    },
    {
     "data": {
      "text/plain": [
       "[None, None, None, None]"
      ]
     },
     "execution_count": 22,
     "metadata": {},
     "output_type": "execute_result"
    }
   ],
   "source": [
    "# 1.7 \n",
    "# Transpose then flip over horizontal axis is equivalent to a rotation by 90 deg counterclockwise\n",
    "# Out of place\n",
    "def matrix_rotate(mat):\n",
    "    n = len(mat)\n",
    "    # Create new array\n",
    "    rotated = [[0]*n for _ in range(n)]\n",
    "    # Fill with correct elements\n",
    "    for i in range(n):\n",
    "        for j in range(n):\n",
    "            print(f'{i}, {j} swaps with {j}, {n-1-i}')\n",
    "            rotated[i][j] = mat[j][(n-1)-i]\n",
    "    return rotated\n",
    "\n",
    "# Transpose then flip over horizontal axis is equivalent to a rotation by 90 deg counterclockwise\n",
    "# In place, to conserve memory (only use 1 temporary buffer element)\n",
    "def get_target(i,j):\n",
    "    return (j, -1*i+(n-1))\n",
    "\n",
    "def get_origin(i,j):\n",
    "    return (j, (n-1)-i)\n",
    "\n",
    "def swap(origin, target, mat):\n",
    "    print(f'{origin} moved to {target}')\n",
    "    mat[target[0]][target[1]] = mat[origin[0]][origin[1]]\n",
    "    return mat\n",
    "          \n",
    "[print(i) for i in matrix_rotate([[1, 2, 3, 4], [5, 6, 7, 8], [9, 10, 11, 12], [13, 14, 15, 16]])]\n"
   ]
  },
  {
   "cell_type": "code",
   "execution_count": 52,
   "metadata": {},
   "outputs": [
    {
     "name": "stdout",
     "output_type": "stream",
     "text": [
      "[1, 0, 0, 0]\n",
      "[5, 0, 0, 0]\n",
      "[0, 0, 0, 0]\n",
      "[0, 0, 0, 0]\n",
      "\n",
      "\n",
      "\n",
      "[1, 0, 3, 4]\n",
      "[5, 0, 7, 8]\n",
      "[0, 0, 0, 0]\n",
      "[13, 0, 15, 16]\n",
      "\n",
      "\n",
      "\n",
      "[1, 0, 3, 4]\n",
      "[5, 0, 7, 8]\n",
      "[0, 0, 0, 0]\n",
      "[13, 0, 15, 16]\n"
     ]
    }
   ],
   "source": [
    "# 1.8 \n",
    "# Brute force -> O(M*N), via looking through all elements and performing the operations if 0 found\n",
    "# Since its a matrix, we'll assume that the column elements are enumerable (eg list, not int)\n",
    "mat_printer = lambda func, mat: [print(i) for i in func(mat)]\n",
    "\n",
    "def set_row_col_to_0_bad(mat):\n",
    "    for i in range(len(mat)):\n",
    "        for j in range(len(mat[0])):\n",
    "            if mat[i][j]==0:\n",
    "                for k in range(len(mat)):\n",
    "                    mat[k][j] = 0\n",
    "                for k in range(len(mat[0])):\n",
    "                    mat[i][k] = 0\n",
    "    return mat\n",
    "test_mat = [[1, 2, 3, 4], [5, 6, 7, 8], [9, 0, 11, 12], [13, 14, 15, 16]]\n",
    "mat_printer(set_row_col_to_0_bad, test_mat)\n",
    "# Note that the above approach is the greater of O(M^2*N) or O(M*N^2) time complexity, and \n",
    "# WOULDNT WORK\n",
    "print('\\n\\n')\n",
    "# We can be smarter about eliminating options by using sets\n",
    "def set_row_col_to_0_better(mat):\n",
    "    zero_cols = set()\n",
    "    zero_rows = set()\n",
    "    for i in range(len(mat)):\n",
    "        for j in range(len(mat[0])):\n",
    "            if mat[i][j]==0:\n",
    "                zero_rows.add(i)\n",
    "                zero_cols.add(j)\n",
    "    for i in range(len(mat)):\n",
    "        for j in range(len(mat[0])):\n",
    "            if i in zero_rows or j in zero_cols:\n",
    "                mat[i][j]=0\n",
    "    return mat\n",
    "# Here, we have achieved O(M*N) time with O(M) or O(N) space complexity (whichever is greater)\n",
    "test_mat = [[1, 2, 3, 4], [5, 6, 7, 8], [9, 0, 11, 12], [13, 14, 15, 16]]\n",
    "mat_printer(set_row_col_to_0_better, test_mat)\n",
    "print('\\n\\n')\n",
    "\n",
    "# We can achieve O(1) space complexity by using the matrices own rows/columns as the row/column store (from solutions)\n",
    "def set_row_col_to_0_best(mat):\n",
    "    for i in range(len(mat)):\n",
    "        for j in range(len(mat[0])):\n",
    "            if mat[i][j]==0:\n",
    "                # Use the matrices own first column/row as marker to save space\n",
    "                mat[0][j] = 0\n",
    "                mat[i][0] = 0\n",
    "    # Could change this up to only look through the first row, first column, and if needed to iterate through the other rows/columns\n",
    "    for i in range(len(mat)):\n",
    "        for j in range(len(mat[0])):\n",
    "            if mat[0][j] == 0 or mat[i][0] ==0:\n",
    "                mat[i][j]=0\n",
    "    return mat\n",
    "test_mat = [[1, 2, 3, 4], [5, 6, 7, 8], [9, 0, 11, 12], [13, 14, 15, 16]]\n",
    "_ = mat_printer(set_row_col_to_0_best, test_mat)        \n",
    "# Better approach: Create enumerable of columns and rows, if 0 found, remove from column and row\n",
    "# Time efficiency? Not sure\n",
    "\n",
    "# Alternative: Sort each row"
   ]
  },
  {
   "cell_type": "code",
   "execution_count": 53,
   "metadata": {},
   "outputs": [
    {
     "data": {
      "application/vnd.jupyter.widget-view+json": {
       "model_id": "f4e44c96c63b4e50bdd7aba63a291783",
       "version_major": 2,
       "version_minor": 0
      },
      "text/plain": [
       "interactive(children=(Text(value='helloworld', description='s1'), Text(value='oworldhell', description='s2'), …"
      ]
     },
     "metadata": {},
     "output_type": "display_data"
    },
    {
     "data": {
      "application/vnd.jupyter.widget-view+json": {
       "model_id": "caee5929ec0f4a1296dd6b0f4b8e7873",
       "version_major": 2,
       "version_minor": 0
      },
      "text/plain": [
       "interactive(children=(Text(value='helloworld', description='s1'), Text(value='oworldhell', description='s2'), …"
      ]
     },
     "metadata": {},
     "output_type": "display_data"
    }
   ],
   "source": [
    "# 1.9\n",
    "# Check to see if two strings are rotations of one another\n",
    "@interact(s1 = 'helloworld', s2 = 'oworldhell')\n",
    "def rotation_check(s1,s2):\n",
    "    \"\"\"\n",
    "    returns True if the strings are rotations of one another, False if not\n",
    "    \"\"\"\n",
    "    runner = 0\n",
    "    # Quick check for O(1)\n",
    "    if len(s1)!=len(s2):\n",
    "        return False\n",
    "    for i in range(len(s2)):\n",
    "        print(s2[i])\n",
    "        # Cost is O(1)\n",
    "        if s2[i]==s1[0]:\n",
    "            print(s2[i:] +s2[0:i])\n",
    "            # Cost is O(n) potentially, but will only manifest for the solution, typically much less\n",
    "            if s2[i:]+s2[0:i]  == s1:\n",
    "                return True\n",
    "    return False\n",
    "\n",
    "# algorithm implemented according to the solutions (faster)\n",
    "@interact(s1 = 'helloworld', s2 = 'oworldhell')\n",
    "def rotation_check(s1,s2):\n",
    "    \"\"\"\n",
    "    This is so clever I dig it\n",
    "    \"\"\"\n",
    "    if s2 in s1+s1:\n",
    "        return True\n",
    "    else: \n",
    "        return False"
   ]
  },
  {
   "cell_type": "code",
   "execution_count": 17,
   "metadata": {},
   "outputs": [
    {
     "name": "stdout",
     "output_type": "stream",
     "text": [
      "5\n",
      "67\n",
      "3\n",
      "2\n",
      "34\n",
      "5\n",
      "6\n",
      "7\n",
      "4\n",
      "2\n",
      "1\n",
      "67\n",
      "3\n",
      "2\n",
      "34\n",
      "5\n",
      "6\n",
      "7\n",
      "4\n",
      "2\n",
      "1\n",
      "5\n",
      "3\n",
      "2\n",
      "34\n",
      "5\n",
      "6\n",
      "7\n",
      "4\n",
      "2\n",
      "1\n",
      "5\n",
      "67\n",
      "2\n",
      "34\n",
      "5\n",
      "6\n",
      "7\n",
      "4\n",
      "2\n",
      "1\n",
      "5\n",
      "67\n",
      "3\n",
      "34\n",
      "5\n",
      "6\n",
      "7\n",
      "4\n",
      "2\n",
      "1\n",
      "5\n",
      "67\n",
      "3\n",
      "2\n",
      "5\n",
      "6\n",
      "7\n",
      "4\n",
      "2\n",
      "1\n",
      "5\n",
      "67\n",
      "3\n",
      "2\n",
      "34\n",
      "6\n",
      "7\n",
      "4\n",
      "2\n",
      "1\n",
      "5\n",
      "67\n",
      "3\n",
      "2\n",
      "34\n",
      "5\n",
      "7\n",
      "4\n",
      "2\n",
      "1\n",
      "5\n",
      "67\n",
      "3\n",
      "2\n",
      "34\n",
      "5\n",
      "6\n",
      "4\n",
      "2\n",
      "1\n",
      "5\n",
      "67\n",
      "3\n",
      "2\n",
      "34\n",
      "5\n",
      "6\n",
      "7\n",
      "2\n",
      "1\n",
      "5\n",
      "67\n",
      "3\n",
      "2\n",
      "34\n",
      "5\n",
      "6\n",
      "7\n",
      "4\n"
     ]
    }
   ],
   "source": [
    "# Example on pg 67\n",
    "arr = [1,5,67,3,2,34,5,6,7,4,2]\n",
    "for i in range(len(arr)):\n",
    "    elem = arr[i]\n",
    "    for j in arr[0:i] +arr[i+1:]:\n",
    "        print(j)\n",
    "        "
   ]
  },
  {
   "cell_type": "code",
   "execution_count": 41,
   "metadata": {},
   "outputs": [
    {
     "data": {
      "text/plain": [
       "<enumerate at 0x10884f7e0>"
      ]
     },
     "execution_count": 41,
     "metadata": {},
     "output_type": "execute_result"
    }
   ],
   "source": [
    "enumerate([])"
   ]
  },
  {
   "cell_type": "code",
   "execution_count": 98,
   "metadata": {},
   "outputs": [
    {
     "data": {
      "text/plain": [
       "<__main__.linked_list at 0x108b3cda0>"
      ]
     },
     "execution_count": 98,
     "metadata": {},
     "output_type": "execute_result"
    }
   ],
   "source": [
    "# 2.1\n",
    "# Establishing the structure for the linked list\n",
    "class linked_list:\n",
    "    \"\"\"\n",
    "    Creates a linked list. Can be called with a single datapoint or a list.\n",
    "    \"\"\"\n",
    "    def __init__(self, data):\n",
    "        self.next = None\n",
    "        self.value = 0 # Will be used for 2.5 later\n",
    "        # Try to convert straight to linked list if iterable and not str\n",
    "        if not isinstance(data, str) and self.iterates(data):\n",
    "            self.linked_listify(data)\n",
    "        else:\n",
    "            self.data = data\n",
    "\n",
    "    def __str__(self):\n",
    "        if self.next:\n",
    "            return str(self.data) + \"->\" + str(self.next)\n",
    "        else:\n",
    "            return str(self.data)\n",
    "\n",
    "    def append(self, data):\n",
    "        if self.next:\n",
    "            self.next.append(data)\n",
    "        else:\n",
    "            self.next = linked_list(data)\n",
    "            \n",
    "    def linked_listify(self, a_list):\n",
    "        self.data = a_list[0]\n",
    "        for i in a_list[1:]:\n",
    "            self.append(i)\n",
    "        return ll\n",
    "    \n",
    "    def iterates(self,data):\n",
    "        try:\n",
    "            iter(data)\n",
    "            return True\n",
    "        except:\n",
    "            return False\n",
    "            \n",
    "ex_list = [1,2,3,4,5]# [1,2,3,4,5,6,7,8,9,10,11,12,13]\n",
    "ll = linked_list(1)\n",
    "ll.append(1); ll.append('me'); ll.append(1)\n",
    "ll.next.next.next\n",
    "# print(ll)"
   ]
  },
  {
   "cell_type": "code",
   "execution_count": 63,
   "metadata": {},
   "outputs": [
    {
     "data": {
      "text/plain": [
       "[1]"
      ]
     },
     "execution_count": 63,
     "metadata": {},
     "output_type": "execute_result"
    }
   ],
   "source": [
    "[1]"
   ]
  },
  {
   "cell_type": "code",
   "execution_count": 71,
   "metadata": {},
   "outputs": [
    {
     "name": "stdout",
     "output_type": "stream",
     "text": [
      "1->3->4->5->6\n",
      "2\n"
     ]
    }
   ],
   "source": [
    "# 2.1\n",
    "# Remove duplicates from the linked list\n",
    "node = linked_list([1,3,4,5,5,5,6,3,4,2])\n",
    "seen = set([node.data])\n",
    "newlist = linked_list(node.data)\n",
    "while node.next:\n",
    "    if node.data not in seen:\n",
    "        newlist.append(node.data)\n",
    "        seen.add(node.data)\n",
    "    node = node.next\n",
    "print(newlist)\n",
    "print(node)\n",
    "# I'm confused by this; The operation isn't done in place, so technically the space complexity is larger than it needs to be, but the initial\n",
    "# linkedlist would be garbage collected as the new linked list is created, so the space complexity would be O(n)? We also have basically a copy of the linked list\n",
    "# in the 'seen' set, so we have a few copies (at most 3) of size n, so O(3*n) ~ O(n). Time complexity is O(n)"
   ]
  },
  {
   "cell_type": "code",
   "execution_count": 79,
   "metadata": {},
   "outputs": [
    {
     "name": "stdout",
     "output_type": "stream",
     "text": [
      "10\n"
     ]
    }
   ],
   "source": [
    "# 2.2\n",
    "# Find the kth element from the end of the list          \n",
    "ex_list = [1,2,3,4,5,6,7,8,9,10,11,12,13]\n",
    "ll = linked_list(ex_list)\n",
    "el = ll\n",
    "# el.next = None\n",
    "\n",
    "k=3\n",
    "counter=0\n",
    "while el.next:\n",
    "    counter +=1\n",
    "    el = el.next\n",
    "el = ll\n",
    "for i in range(counter-k):\n",
    "    el=el.next\n",
    "\n",
    "print(el.data)\n",
    "\n",
    "# Just go through the ll while keeping a count of how long the list is, then go through again, stopping at len-k iterations. Time complexity O(n), \n",
    "# space complexity O(1)\n"
   ]
  },
  {
   "cell_type": "code",
   "execution_count": 80,
   "metadata": {},
   "outputs": [
    {
     "name": "stdout",
     "output_type": "stream",
     "text": [
      "1->2->3->5->6->7->8->9->10->11->12->13\n"
     ]
    }
   ],
   "source": [
    "# 2.3 \n",
    "# Access the kth element\n",
    "ll = linked_list([1,2,3,4,5,6,7,8,9,10,11,12,13])\n",
    "k = 3\n",
    "el = ll\n",
    "for i in range(k):\n",
    "    ll=ll.next\n",
    "ll.data = ll.next.data\n",
    "ll.next = ll.next.next\n",
    "# new_el = linked_listify(dat[:-1])\n",
    "# new_el.append(el)\n",
    "print(el)\n",
    "\n",
    "# Removes the element by changing its data to the next's data, then changing its pointer to the next's pointer"
   ]
  },
  {
   "cell_type": "code",
   "execution_count": 97,
   "metadata": {},
   "outputs": [
    {
     "name": "stdout",
     "output_type": "stream",
     "text": [
      "1->5->7->4->3->6->9->1\n",
      "Second partition method:\n",
      "1->5->4->3->1->7->6->9\n",
      "First partition method:\n",
      "1->5->4->3->1->6->9->7\n",
      ":)\n"
     ]
    }
   ],
   "source": [
    "# 2.4 \n",
    "# Partition a linked list such that all elements left of an index are less than the partition value, and all elements right of the index are greater than a certain value\n",
    "# This is an essential part of quicksort, as demonstrated by Zach\n",
    "\n",
    "def partition(ll,p): # ll is the linked list, p is the partition value\n",
    "    current = ll\n",
    "    prior = ll\n",
    "    while current: # This works because we defined node.next = None\n",
    "        if current.data < p:\n",
    "            buff = current.data\n",
    "            current.data = prior.data\n",
    "            prior.data = buff\n",
    "        if prior.data < p:\n",
    "            prior = prior.next\n",
    "        current = current.next\n",
    "\n",
    "def partition_again(ll,p):\n",
    "    current = ll\n",
    "    head_ll = linked_list(None)\n",
    "    tail_ll = linked_list(None)\n",
    "    while current:\n",
    "        if current.data < p:\n",
    "            head_ll.append(current.data)\n",
    "        else:\n",
    "            tail_ll.append(current.data)\n",
    "        current = current.next\n",
    "    head_ll = head_ll.next     # remove initial none entry\n",
    "    head_ll.append(tail_ll.next)\n",
    "    return head_ll\n",
    "\n",
    "ll = linked_list([1,5,7,4,3,6, 9, 1])\n",
    "ll_orig = ll\n",
    "print(ll)\n",
    "print('Second partition method:')\n",
    "print(partition_again(ll_orig, 6))\n",
    "\n",
    "partition(ll,6)\n",
    "print('First partition method:')\n",
    "print(ll)\n",
    "print(':)')\n"
   ]
  },
  {
   "cell_type": "code",
   "execution_count": 106,
   "metadata": {},
   "outputs": [
    {
     "data": {
      "text/plain": [
       "['m', 'e']"
      ]
     },
     "execution_count": 106,
     "metadata": {},
     "output_type": "execute_result"
    }
   ],
   "source": [
    "list('me')"
   ]
  },
  {
   "cell_type": "code",
   "execution_count": 114,
   "metadata": {},
   "outputs": [
    {
     "name": "stdout",
     "output_type": "stream",
     "text": [
      "64351\n",
      "11111\n",
      "7->5->4->6->2\n"
     ]
    }
   ],
   "source": [
    "# 2.5\n",
    "# Sum Linked Lists\n",
    "# Going to implement these as modifications to the base linked_list class\n",
    "# A few steps here:\n",
    "#    (1) Represent both linked lists as ints\n",
    "#    (2) Sum the ints\n",
    "#    (3) Take the int representation back to linked_list\n",
    "# Alternatively, you could try to sum up the individual linked list elements, but you would need to do a kind of carry over for anything that summed >10, e.g.\n",
    "# 5 + 6 would add one to next as well. In this approach, steps would be \n",
    "#    (1) Sum the individual elements of the linked list\n",
    "# Proceeding with option 1\n",
    "\n",
    "class linked_list(linked_list):\n",
    "    def represent_as_int(self):\n",
    "        self.value = 0\n",
    "        self.recursive_value_adder(self, 1)\n",
    "        print(self.value)\n",
    "        return self.value\n",
    "        \n",
    "    def recursive_value_adder(self, node, base):\n",
    "        self.value += node.data*base\n",
    "        if node.next:\n",
    "            self.recursive_value_adder(node.next, base*10)\n",
    "            \n",
    "    def represent_intvalue_as_linked_list(self, intvalue):\n",
    "        value_str = str(intvalue)\n",
    "        ll = linked_list(list(value_str))\n",
    "        return ll\n",
    "        \n",
    "        \n",
    "ll1 = linked_list([1,5,3, 4, 6])\n",
    "ll2 = linked_list([1,1,1,1,1])\n",
    "ll1_value = ll1.represent_as_int()\n",
    "ll2_value = ll2.represent_as_int()\n",
    "val = ll1_value + ll2_value\n",
    "ll = ll.represent_intvalue_as_linked_list(val)\n",
    "print(ll)\n",
    "\n",
    "## Follow up question; If elements are in opposite order (ending with ones digit), repeat the operation\n",
    "\n",
    "\n",
    "\n",
    "        "
   ]
  },
  {
   "cell_type": "markdown",
   "metadata": {},
   "source": [
    "<h3> Chapter 3: Stacks and Queues"
   ]
  },
  {
   "cell_type": "code",
   "execution_count": 3,
   "metadata": {},
   "outputs": [
    {
     "name": "stdout",
     "output_type": "stream",
     "text": [
      "low\n",
      "-\n",
      "he\n",
      "-\n",
      "1\n",
      "-\n",
      "\n",
      "he\n",
      "-\n",
      "1\n",
      "-\n",
      "\n"
     ]
    }
   ],
   "source": [
    "# Implement a stack data structure\n",
    "class mystack:\n",
    "    def __init__(self, init_val):\n",
    "        # Implement a check to ensure that the init_val has length 1\n",
    "        self.data = [init_val]\n",
    "        \n",
    "    def __str__(self):\n",
    "        ret = ''\n",
    "        for i in self.data[::-1]:\n",
    "            ret+=(str(i)+'\\n-\\n')\n",
    "        return ret\n",
    "            \n",
    "    def check_not_empty(self):\n",
    "        if len(self.data) >=1:\n",
    "            return True\n",
    "        else:\n",
    "            print('No data in stack')\n",
    "            raise Exception('Tried to access data in an empty stack')\n",
    "        \n",
    "    def pop(self):\n",
    "        if self.check_not_empty():\n",
    "            return self.data.pop()\n",
    "\n",
    "    def peek(self):\n",
    "        if self.check_not_empty():\n",
    "            return self.data[-1]\n",
    "    \n",
    "    def add(self, elem):\n",
    "        if self.check_not_empty():\n",
    "            self.data.append(elem)\n",
    "        \n",
    "me = mystack(1)\n",
    "me.add('he')\n",
    "me.add('low')\n",
    "\n",
    "print(me)\n",
    "me.pop()\n",
    "print(me)"
   ]
  },
  {
   "cell_type": "code",
   "execution_count": 25,
   "metadata": {},
   "outputs": [
    {
     "name": "stdout",
     "output_type": "stream",
     "text": [
      "0\n",
      "None\n",
      "['crazy', 1, 2, 3, 4, 5, 6, 7, 8, 9, 10, 11, 12, 13, 14, 15, 16, 17, 18, 19, 20, 21, 22, 23, 24, 25, 26, 27, 28, 29, 30, 31, 32, 33, 34, 35, 36, 37, 38, 39, 40, 41, 42, 43, 44, 45, 46, 47, 48, 49, 50, 51, 52, 53, 54, 55, 56, 57, 58, 59]\n",
      "20\n",
      "None\n",
      "['crazy', 1, 2, 3, 4, 5, 6, 7, 8, 9, 10, 11, 12, 13, 14, 15, 16, 17, 18, 19, 'crazy', 21, 22, 23, 24, 25, 26, 27, 28, 29, 30, 31, 32, 33, 34, 35, 36, 37, 38, 39, 40, 41, 42, 43, 44, 45, 46, 47, 48, 49, 50, 51, 52, 53, 54, 55, 56, 57, 58, 59]\n",
      "40\n",
      "None\n",
      "['crazy', 1, 2, 3, 4, 5, 6, 7, 8, 9, 10, 11, 12, 13, 14, 15, 16, 17, 18, 19, 'crazy', 21, 22, 23, 24, 25, 26, 27, 28, 29, 30, 31, 32, 33, 34, 35, 36, 37, 38, 39, 'crazy', 41, 42, 43, 44, 45, 46, 47, 48, 49, 50, 51, 52, 53, 54, 55, 56, 57, 58, 59]\n"
     ]
    }
   ],
   "source": [
    "# 3.1 : Describe how you could use a single array to house three stacks\n",
    "# Idea of a stack is that you don't know the size initially, so allocating that would be weird...\n",
    "# You can make 3 pop-supported stacks from a pre-allocated array\n",
    "\n",
    "# Although python lists arent arrays necessarily, they can work for this example. Or can use np.array\n",
    "class three_stack_in_list:\n",
    "    def __init__(self, n):\n",
    "        self.arr = list(range(n))\n",
    "        p1, p2, p3 = 0, n//3, (n*2)//3\n",
    "        self.pointers = [p1, p2, p3]\n",
    "        self.pointer_limits = ((0,p2-1), (p2, p3-1), (p3, n-1)) # Tuples outta be immutable\n",
    "        self.check_pointer = lambda i: True if (self.pointers[i] >= self.pointer_limits[i][0]) and (self.pointers[i] <= self.pointer_limits[i][1]) else False\n",
    "        \n",
    "    def pop(self, i):\n",
    "        \"\"\" Remove the element from the stack by index i (0,1,2 are stacks 1,2,3 respectively)\"\"\"\n",
    "        # Check is up front to ensure it passes\n",
    "        self.pointers[i] += 1\n",
    "        if not self.check_pointer(i):\n",
    "            raise Exception(f\"Cant pop from index {i} anymore; Stack is empty\")\n",
    "        temp = self.arr[self.pointers[i]-1]\n",
    "        self.arr[self.pointers[i]-1] = None\n",
    "        return temp\n",
    "    \n",
    "    def push(self, i, element):\n",
    "        \"\"\" Adds an element to stack i \"\"\"\n",
    "        self.pointers[i] -= 1\n",
    "        if not self.check_pointer(i):\n",
    "            raise Exception(f\"Cant push to stack index {i} anymore; Stack is full\")\n",
    "        self.arr[self.pointers[i]] = element\n",
    "            \n",
    "\n",
    "# t_stack = three_stack_in_list(60)\n",
    "# # print(t_stack.pop(2))\n",
    "# # print(t_stack.pop(1))\n",
    "# for i in [0,1,2]:\n",
    "#     print(t_stack.pop(i))\n",
    "#     print(t_stack.push(i, 'crazy'))\n",
    "# #     print(t_stack.pop(i))\n",
    "#     print(t_stack.arr)\n",
    "\n",
    "# Okay so that is an implementation of 3 fixed length stacks in ~30 minutes\n",
    "# Another approach, copying from above and modifying\n",
    "\n",
    "# Although python lists arent arrays necessarily, they can work for this example. Or can use np.array\n",
    "# I dont know. Maybe will try again later\n",
    "     "
   ]
  },
  {
   "cell_type": "code",
   "execution_count": 37,
   "metadata": {},
   "outputs": [
    {
     "name": "stdout",
     "output_type": "stream",
     "text": [
      "[(0, 10)]\n",
      "[(0, 10)]\n",
      "[(0, 10), (1, 9)]\n",
      "[(0, 10), (1, 9), (1, 7)]\n",
      "[(0, 10), (1, 9), (1, 7)]\n",
      "[(0, 10), (1, 9), (1, 7), (2, 2)]\n",
      "[(0, 10), (1, 9), (1, 7), (2, 2)]\n",
      "6\n",
      "2\n",
      "21\n",
      "7\n",
      "9\n",
      "10\n",
      "[12]\n"
     ]
    }
   ],
   "source": [
    "# 3.2\n",
    "# Stack min; A stack which has O(1) time for min and push, pop\n",
    "class simple_stack:\n",
    "    def __init__(self, initial_stack = []):\n",
    "        self.arr = initial_stack\n",
    "        # Store all min values in a list together with index they appear in; Will not be included in the main stack\n",
    "        self.mins = []\n",
    "        \n",
    "    def pop(self):\n",
    "        \"\"\" Remove the element from the stack \"\"\"\n",
    "        # Check is up front to ensure it passes\n",
    "        try:\n",
    "            if len(self.arr) == self.mins[-1][0]:\n",
    "                return self.mins.pop()[1]\n",
    "            temp = self.arr.pop() # Defaults to last index\n",
    "            return temp\n",
    "        except:\n",
    "            raise Exception(\"Cant pop from an empty stack\")\n",
    "    \n",
    "    def push(self, element):\n",
    "        \"\"\" Adds an element to stack i \"\"\"\n",
    "        # Check mins\n",
    "        # First element will always be min\n",
    "        if self.mins:\n",
    "            if element < self.mins[-1][1]:\n",
    "                self.mins.append((len(self.arr), element))# Could use None here instead of element if needed\n",
    "            else:\n",
    "                self.arr.append(element)\n",
    "        else:\n",
    "            self.mins.append((0, element))# Could use None here instead of element if needed\n",
    "\n",
    "    \n",
    "    def min(self):\n",
    "        \"\"\" Gets the min of the stack (and removes from the stack) \"\"\"\n",
    "        return self.mins.pop()[1]\n",
    "        \n",
    "# The real question is whats the cost of a delete of an element from a list\n",
    "stack = simple_stack()\n",
    "for i in [10, 12, 9, 7, 21, 2, 6]:\n",
    "    stack.push(i)\n",
    "    print(stack.mins)\n",
    "    \n",
    "for i in range(5):\n",
    "    print(stack.pop())\n",
    "print(stack.min())\n",
    "print(stack.arr)\n",
    "# This seems to work! I'm thrilled :) \n"
   ]
  },
  {
   "cell_type": "code",
   "execution_count": 85,
   "metadata": {},
   "outputs": [
    {
     "name": "stdout",
     "output_type": "stream",
     "text": [
      "[<__main__.stack object at 0x106ac94a8>]\n",
      "[<__main__.stack object at 0x106ac94a8>, <__main__.stack object at 0x106add898>]\n",
      "[<__main__.stack object at 0x106ac94a8>, <__main__.stack object at 0x106add898>]\n",
      "[<__main__.stack object at 0x106ac94a8>, <__main__.stack object at 0x106add898>, <__main__.stack object at 0x106996e48>]\n",
      "[<__main__.stack object at 0x106ac94a8>, <__main__.stack object at 0x106add898>, <__main__.stack object at 0x106996e48>]\n",
      "[<__main__.stack object at 0x106ac94a8>, <__main__.stack object at 0x106add898>, <__main__.stack object at 0x106996e48>, <__main__.stack object at 0x106996128>]\n",
      "4\n",
      "19\n",
      "18\n",
      "17\n",
      "16\n",
      "15\n",
      "14\n",
      "13\n",
      "12\n",
      "11\n",
      "10\n",
      "9\n",
      "8\n",
      "7\n",
      "6\n",
      "5\n",
      "\n",
      "\n",
      "\n",
      "2\n",
      "D\n",
      "C\n",
      "B\n",
      "A\n",
      "4\n",
      "3\n",
      "2\n",
      "1\n",
      "0\n"
     ]
    }
   ],
   "source": [
    "# 3.3\n",
    "# Stack of plates - Implement a stack that allocates new stacks as needed to keep each stack below a capacity\n",
    "\n",
    "CAPACITY = 5\n",
    "\n",
    "class PopException(Exception):\n",
    "    pass\n",
    "\n",
    "class stack:\n",
    "    def __init__(self, initial_stack = []):\n",
    "        self.arr = initial_stack\n",
    "        \n",
    "    def push(self, element):\n",
    "        self.arr.append(element)\n",
    "        \n",
    "    def pop(self):\n",
    "        if self.arr:\n",
    "            return self.arr.pop()\n",
    "        else:\n",
    "            raise PopException(\"Tried to Pop from Empty Array\")\n",
    "    \n",
    "    def __len__(self):\n",
    "        return len(self.arr)\n",
    "    \n",
    "    def __str__(self):\n",
    "        return str(self.arr)\n",
    "        \n",
    "class stack_of_plates:\n",
    "    \"\"\"\n",
    "    A class that provides interfaces like a normal stack but maintains a number of stacks with size limit CAPACITY internally\n",
    "    \"\"\"\n",
    "    def __init__(self, capacity):\n",
    "        self.stacks = [stack()]\n",
    "        self.capacity = capacity\n",
    "    \n",
    "    def push(self, element):\n",
    "#         print(len(self.stacks))\n",
    " \n",
    "        if len(self.stacks[-1]) >= self.capacity:\n",
    "            print(self.stacks)\n",
    "            self.stacks.append(stack(initial_stack=[]))\n",
    "            print(self.stacks)\n",
    "#         else:\n",
    "#         print(self.stacks)\n",
    "        self.stacks[-1].push(element)\n",
    "        \n",
    "    def pop(self):\n",
    "        if self.stacks:\n",
    "            try:\n",
    "                return self.stacks[-1].pop()\n",
    "            except PopException:\n",
    "                self.stacks.pop()\n",
    "                # Recursion provides a little more security?\n",
    "                return self.pop()\n",
    "        else:\n",
    "            raise PopException(\"Tried to Pop from Empty Array\")\n",
    "            \n",
    "    def popAt(self, i):\n",
    "        if i < len(self.stacks):\n",
    "            try:\n",
    "                return self.stacks[i].pop()\n",
    "            except: \n",
    "                raise PopException(f\"Tried to PopAt from array {i}, which was empty\")\n",
    "            \n",
    "plates = stack_of_plates(capacity=CAPACITY)\n",
    "for j in range(20):\n",
    "    plates.push(j)\n",
    "    \n",
    "print(len(plates.stacks))\n",
    "for j in range(15):\n",
    "    print(plates.pop())\n",
    "#     plates.pop()\n",
    "    \n",
    "for j in ['A', 'B', 'C', 'D']:\n",
    "    plates.push(j)\n",
    "print(\"\\n\\n\")\n",
    "print(len(plates.stacks))\n",
    "for j in range(9):\n",
    "    print(plates.pop())\n",
    "    \n",
    "# This seemed to work, but had way more debugging required than I wanted... ~30 minutes completion time. \n",
    "# Still dont know why appending then fetching the last element wasnt working\n",
    "        \n",
    "        \n",
    "        "
   ]
  },
  {
   "cell_type": "code",
   "execution_count": 86,
   "metadata": {},
   "outputs": [
    {
     "name": "stdout",
     "output_type": "stream",
     "text": [
      "20\n",
      "20\n"
     ]
    }
   ],
   "source": [
    "# Example for Stack Overflow question here:\n",
    "#    https://stackoverflow.com/questions/59145246/different-behavior-using-explicit-vs-default-constructor-arguments?noredirect=1#comment104516564_59145246 \n",
    "class mylist:\n",
    "    def __init__(self, initial = None):\n",
    "        if initial:\n",
    "            self.list = initial\n",
    "        else:\n",
    "            self.list = []\n",
    "\n",
    "class list_of_lists:\n",
    "    def __init__(self):\n",
    "        # Only difference between these two lists is being explicit with the initial argument vs leaving it as default\n",
    "        self.implicit_arg = [mylist()]\n",
    "        self.explicit_arg = [mylist(initial=[])]\n",
    "        \n",
    "    def push(self, el):\n",
    "        if len(self.implicit_arg[-1].list) == 5:\n",
    "            self.implicit_arg.append(mylist())\n",
    "        self.implicit_arg[-1].list.append(el)\n",
    "        \n",
    "        if len(self.explicit_arg[-1].list) == 5:\n",
    "            self.explicit_arg.append(mylist(initial=[]))\n",
    "        self.explicit_arg[-1].list.append(el)\n",
    "    \n",
    "nested_lists = list_of_lists()\n",
    "\n",
    "for i in range(100):\n",
    "    nested_lists.push(i)\n",
    "# These should be the same, but they're not\n",
    "print(len(nested_lists.implicit_arg))\n",
    "print(len(nested_lists.explicit_arg))\n",
    "\n",
    "# This is still highly frustrating to me\n"
   ]
  },
  {
   "cell_type": "code",
   "execution_count": 99,
   "metadata": {},
   "outputs": [
    {
     "name": "stdout",
     "output_type": "stream",
     "text": [
      "['A']\n",
      "['A', 'B']\n",
      "['A', 'B', 'C']\n",
      "['A', 'B', 'C', 'D']\n",
      "['A', 'B', 'C', 'D', 'E']\n",
      "A\n",
      "B\n",
      "C\n",
      "D\n",
      "E\n"
     ]
    },
    {
     "ename": "PopException",
     "evalue": "Tried to Pop from Empty Array",
     "output_type": "error",
     "traceback": [
      "\u001b[0;31m---------------------------------------------------------------------------\u001b[0m",
      "\u001b[0;31mPopException\u001b[0m                              Traceback (most recent call last)",
      "\u001b[0;32m<ipython-input-99-6e07290c3657>\u001b[0m in \u001b[0;36m<module>\u001b[0;34m\u001b[0m\n\u001b[1;32m     34\u001b[0m \u001b[0mprint\u001b[0m\u001b[0;34m(\u001b[0m\u001b[0mq\u001b[0m\u001b[0;34m.\u001b[0m\u001b[0mpopFIFO\u001b[0m\u001b[0;34m(\u001b[0m\u001b[0;34m)\u001b[0m\u001b[0;34m)\u001b[0m\u001b[0;34m\u001b[0m\u001b[0;34m\u001b[0m\u001b[0m\n\u001b[1;32m     35\u001b[0m \u001b[0mprint\u001b[0m\u001b[0;34m(\u001b[0m\u001b[0mq\u001b[0m\u001b[0;34m.\u001b[0m\u001b[0mpopFIFO\u001b[0m\u001b[0;34m(\u001b[0m\u001b[0;34m)\u001b[0m\u001b[0;34m)\u001b[0m\u001b[0;34m\u001b[0m\u001b[0;34m\u001b[0m\u001b[0m\n\u001b[0;32m---> 36\u001b[0;31m \u001b[0mprint\u001b[0m\u001b[0;34m(\u001b[0m\u001b[0mq\u001b[0m\u001b[0;34m.\u001b[0m\u001b[0mpopFIFO\u001b[0m\u001b[0;34m(\u001b[0m\u001b[0;34m)\u001b[0m\u001b[0;34m)\u001b[0m\u001b[0;34m\u001b[0m\u001b[0;34m\u001b[0m\u001b[0m\n\u001b[0m\u001b[1;32m     37\u001b[0m \u001b[0;34m\u001b[0m\u001b[0m\n\u001b[1;32m     38\u001b[0m \u001b[0;34m\u001b[0m\u001b[0m\n",
      "\u001b[0;32m<ipython-input-99-6e07290c3657>\u001b[0m in \u001b[0;36mpopFIFO\u001b[0;34m(self)\u001b[0m\n\u001b[1;32m     12\u001b[0m         \u001b[0;32mwhile\u001b[0m \u001b[0mself\u001b[0m\u001b[0;34m.\u001b[0m\u001b[0ms1\u001b[0m\u001b[0;34m.\u001b[0m\u001b[0marr\u001b[0m\u001b[0;34m:\u001b[0m\u001b[0;34m\u001b[0m\u001b[0;34m\u001b[0m\u001b[0m\n\u001b[1;32m     13\u001b[0m             \u001b[0mself\u001b[0m\u001b[0;34m.\u001b[0m\u001b[0ms2\u001b[0m\u001b[0;34m.\u001b[0m\u001b[0mpush\u001b[0m\u001b[0;34m(\u001b[0m\u001b[0mself\u001b[0m\u001b[0;34m.\u001b[0m\u001b[0ms1\u001b[0m\u001b[0;34m.\u001b[0m\u001b[0mpop\u001b[0m\u001b[0;34m(\u001b[0m\u001b[0;34m)\u001b[0m\u001b[0;34m)\u001b[0m\u001b[0;34m\u001b[0m\u001b[0;34m\u001b[0m\u001b[0m\n\u001b[0;32m---> 14\u001b[0;31m         \u001b[0;32mreturn\u001b[0m \u001b[0mself\u001b[0m\u001b[0;34m.\u001b[0m\u001b[0ms2\u001b[0m\u001b[0;34m.\u001b[0m\u001b[0mpop\u001b[0m\u001b[0;34m(\u001b[0m\u001b[0;34m)\u001b[0m\u001b[0;34m\u001b[0m\u001b[0;34m\u001b[0m\u001b[0m\n\u001b[0m\u001b[1;32m     15\u001b[0m \u001b[0;34m\u001b[0m\u001b[0m\n\u001b[1;32m     16\u001b[0m     \u001b[0;32mdef\u001b[0m \u001b[0mpushFIFO\u001b[0m\u001b[0;34m(\u001b[0m\u001b[0mself\u001b[0m\u001b[0;34m,\u001b[0m \u001b[0melement\u001b[0m\u001b[0;34m)\u001b[0m\u001b[0;34m:\u001b[0m\u001b[0;34m\u001b[0m\u001b[0;34m\u001b[0m\u001b[0m\n",
      "\u001b[0;32m<ipython-input-85-e186120eb9bb>\u001b[0m in \u001b[0;36mpop\u001b[0;34m(self)\u001b[0m\n\u001b[1;32m     18\u001b[0m             \u001b[0;32mreturn\u001b[0m \u001b[0mself\u001b[0m\u001b[0;34m.\u001b[0m\u001b[0marr\u001b[0m\u001b[0;34m.\u001b[0m\u001b[0mpop\u001b[0m\u001b[0;34m(\u001b[0m\u001b[0;34m)\u001b[0m\u001b[0;34m\u001b[0m\u001b[0;34m\u001b[0m\u001b[0m\n\u001b[1;32m     19\u001b[0m         \u001b[0;32melse\u001b[0m\u001b[0;34m:\u001b[0m\u001b[0;34m\u001b[0m\u001b[0;34m\u001b[0m\u001b[0m\n\u001b[0;32m---> 20\u001b[0;31m             \u001b[0;32mraise\u001b[0m \u001b[0mPopException\u001b[0m\u001b[0;34m(\u001b[0m\u001b[0;34m\"Tried to Pop from Empty Array\"\u001b[0m\u001b[0;34m)\u001b[0m\u001b[0;34m\u001b[0m\u001b[0;34m\u001b[0m\u001b[0m\n\u001b[0m\u001b[1;32m     21\u001b[0m \u001b[0;34m\u001b[0m\u001b[0m\n\u001b[1;32m     22\u001b[0m     \u001b[0;32mdef\u001b[0m \u001b[0m__len__\u001b[0m\u001b[0;34m(\u001b[0m\u001b[0mself\u001b[0m\u001b[0;34m)\u001b[0m\u001b[0;34m:\u001b[0m\u001b[0;34m\u001b[0m\u001b[0;34m\u001b[0m\u001b[0m\n",
      "\u001b[0;31mPopException\u001b[0m: Tried to Pop from Empty Array"
     ]
    }
   ],
   "source": [
    "# 3.3\n",
    "# Implement a queue using two stacks\n",
    "class myqueue:\n",
    "    \"\"\" Implements a queue using two stacks \"\"\"\n",
    "    def __init__(self):\n",
    "        # push pop\n",
    "        self.s1 = stack(initial_stack=[])\n",
    "        self.s2 = stack(initial_stack=[])\n",
    "        \n",
    "    def popFIFO(self):\n",
    "        # For a pop, we need all the elements in s2\n",
    "        while self.s1.arr:\n",
    "            self.s2.push(self.s1.pop())\n",
    "        return self.s2.pop()\n",
    "    \n",
    "    def pushFIFO(self, element):\n",
    "        # For a push, we need all the elements in s1\n",
    "        while self.s2.arr:\n",
    "            self.s1.push(self.s2.pop())\n",
    "        # Push back to s1\n",
    "        self.s1.push(element)\n",
    "\n",
    "        \n",
    "arr = [\"A\", \"B\", \"C\", \"D\", \"E\"]\n",
    "\n",
    "q = myqueue()\n",
    "for el in arr:\n",
    "    q.pushFIFO(el)\n",
    "    print(q.s1)\n",
    "\n",
    "print(q.popFIFO())\n",
    "print(q.popFIFO())\n",
    "print(q.popFIFO())\n",
    "print(q.popFIFO())\n",
    "print(q.popFIFO())\n",
    "print(q.popFIFO())\n",
    "    \n",
    "## Should be O(n) for both push, pop \n",
    "    "
   ]
  },
  {
   "cell_type": "code",
   "execution_count": 111,
   "metadata": {},
   "outputs": [
    {
     "name": "stdout",
     "output_type": "stream",
     "text": [
      "Pushed into s1\n",
      "[28, 9, 8, 12, 15, 11, 12, 10, 14, 6, 4]\n",
      "[]\n",
      "19\n",
      "Pushed into s1\n",
      "[28, 19, 8, 9, 12, 11, 12, 10, 14, 6, 4]\n",
      "[]\n",
      "15\n",
      "Pushed into s1\n",
      "[28, 19, 15, 8, 9, 11, 12, 10, 12, 6, 4]\n",
      "[]\n",
      "14\n",
      "Pushed into s1\n",
      "[28, 19, 15, 14, 8, 9, 11, 10, 12, 6, 4]\n",
      "[]\n",
      "12\n",
      "Pushed into s1\n",
      "[28, 19, 15, 14, 8, 9, 11, 10, 12, 12, 4]\n",
      "[]\n",
      "6\n",
      "Pushed into s1\n",
      "[28, 19, 15, 14, 8, 9, 11, 10, 12, 12, 6]\n",
      "[]\n",
      "4\n",
      "[28, 19, 15, 14, 8, 9, 11, 10, 12, 12, 6, 4]\n",
      "[]\n",
      "None\n"
     ]
    },
    {
     "data": {
      "text/plain": [
       "<__main__.sorted_stack at 0x107e9c9e8>"
      ]
     },
     "execution_count": 111,
     "metadata": {},
     "output_type": "execute_result"
    }
   ],
   "source": [
    "# 3.5 \n",
    "#     Implement a stack that has the smallest elements at the top, using only another stack for sorting purposes.\n",
    "\n",
    "# Stack implementation copied from 3.3 above\n",
    "class stack:\n",
    "    def __init__(self, initial_stack = None):\n",
    "        if initial_stack:\n",
    "            self.arr = initial_stack\n",
    "        else:\n",
    "            self.arr = []\n",
    "        \n",
    "    def push(self, element):\n",
    "        self.arr.append(element)\n",
    "        \n",
    "    def pop(self):\n",
    "        if self.arr:\n",
    "            return self.arr.pop()\n",
    "        else:\n",
    "            raise PopException(\"Tried to Pop from Empty Array\")\n",
    "    \n",
    "    def __len__(self):\n",
    "        return len(self.arr)\n",
    "    \n",
    "    def __str__(self):\n",
    "        return str(self.arr)\n",
    "    \n",
    "    def peek(self):\n",
    "        return self.arr[-1]\n",
    "    \n",
    "class sorted_stack(stack):\n",
    "    def __init__(self, initial_stack = None):\n",
    "        self.support_arr = stack()\n",
    "        self.largest = None\n",
    "        # Self.arr is the presentation array, the one we push/pop from\n",
    "        if initial_stack:\n",
    "            self.arr = stack(initial_stack=initial_stack)\n",
    "            self.sort_arr()\n",
    "        else:\n",
    "            self.arr = stack()\n",
    "            \n",
    "    def sort_arr(self):\n",
    "        \"\"\" Sorts the self.arr array using self.support_arr \"\"\"\n",
    "        # Push the largest to arr\n",
    "        self.arr.push(self.largest)\n",
    "        \n",
    "        # Run the sort routine\n",
    "        self.sort_routine(self.arr, self.support_arr, self.largest)\n",
    "        \n",
    "        print(self.arr)\n",
    "        print(self.support_arr)\n",
    "        print(self.largest)\n",
    "        \n",
    "    def sort_routine(self, s1, s2, largest=None):\n",
    "        \"\"\" Sorts the stack provided as s1. If no largest argument provided\"\"\"\n",
    "        # Using while loops as alternative to recursion\n",
    "        # Make sure that we actually have the largest element\n",
    "        while s1.arr:\n",
    "            temp = s1.pop()\n",
    "            # Initialization for largest\n",
    "            if not largest:\n",
    "                largest = temp\n",
    "            else:\n",
    "                if temp > largest:\n",
    "                    s2.push(largest)\n",
    "                    largest = temp\n",
    "                else:\n",
    "                    s2.push(temp)\n",
    "\n",
    "        while s2.arr:\n",
    "            print(\"Pushed into s1\")\n",
    "#             if not s1.arr:\n",
    "            s1.push(largest)\n",
    "            largest = None\n",
    "            # Push s2 into s1 til you get to the largest element\n",
    "            while s2.arr:\n",
    "                temp = s2.pop()\n",
    "                # Initialization for largest\n",
    "                if not largest:\n",
    "                    largest = temp\n",
    "                else:\n",
    "                    if temp > largest:\n",
    "                        s1.push(largest)\n",
    "                        largest = temp\n",
    "                    else:\n",
    "                        s1.push(temp)\n",
    "            # Now, we know the current working largest element\n",
    "            # Push s1 back into s2 til we get to the breakpoint, indicated by the elements value being larger than largest\n",
    "            print(s1)\n",
    "            print(s2)\n",
    "            print(largest)\n",
    "            while True:\n",
    "                if s1.peek()<largest:\n",
    "                    s2.push(s1.pop())\n",
    "                else:\n",
    "#                     s1.push(largest)\n",
    "                    break\n",
    "        # Push the last largest onto s2 (conveniently, this is the smallest element)\n",
    "        s1.push(largest)\n",
    "    #         return s1, s2\n",
    "                \n",
    "    \n",
    "li = [12,9,8,15, 19, 11, 12, 10, 14, 28, 4, 6]\n",
    "\n",
    "sorted_stack(li)\n",
    "                \n",
    "        \n",
    "    \n",
    "\n"
   ]
  },
  {
   "cell_type": "code",
   "execution_count": null,
   "metadata": {},
   "outputs": [],
   "source": [
    "# 3.6\n",
    "# Pet Adoption Agency: Customers can take the first pet in, can request dog - \n",
    "# in which case they get the first dog in - or can request Cat - in which case they get the first cat in.\n",
    "# Using the linked list, implement enqueue, dequeue, dequeue cat, and dequeue dog\n",
    "\n",
    "class PetAdoptionAgency:\n",
    "    def __init__(self):\n",
    "        self.counter = 0\n",
    "        self.dogs = stack()\n",
    "        self.cats = stack()\n",
    "        \n",
    "    def enqueue(self, animal, )\n",
    "        "
   ]
  },
  {
   "cell_type": "markdown",
   "metadata": {},
   "source": [
    "<h3>Assorted Questions"
   ]
  },
  {
   "cell_type": "code",
   "execution_count": 101,
   "metadata": {},
   "outputs": [
    {
     "ename": "TypeError",
     "evalue": "'<' not supported between instances of 'int' and 'NoneType'",
     "output_type": "error",
     "traceback": [
      "\u001b[0;31m---------------------------------------------------------------------------\u001b[0m",
      "\u001b[0;31mTypeError\u001b[0m                                 Traceback (most recent call last)",
      "\u001b[0;32m<ipython-input-101-276bdfc959f6>\u001b[0m in \u001b[0;36m<module>\u001b[0;34m\u001b[0m\n\u001b[0;32m----> 1\u001b[0;31m \u001b[0;36m5\u001b[0m\u001b[0;34m<\u001b[0m \u001b[0;32mNone\u001b[0m\u001b[0;34m\u001b[0m\u001b[0;34m\u001b[0m\u001b[0m\n\u001b[0m",
      "\u001b[0;31mTypeError\u001b[0m: '<' not supported between instances of 'int' and 'NoneType'"
     ]
    }
   ],
   "source": []
  },
  {
   "cell_type": "code",
   "execution_count": 91,
   "metadata": {},
   "outputs": [
    {
     "name": "stdout",
     "output_type": "stream",
     "text": [
      "0 9\n",
      "Comparison: 5 <=> 6.8\n",
      "Right\n",
      "4 9\n",
      "Comparison: 9 <=> 6.8\n",
      "Left\n",
      "4 7\n",
      "Comparison: 8 <=> 6.8\n",
      "Left\n",
      "4 6\n",
      "Comparison: 8 <=> 6.8\n",
      "Left\n"
     ]
    },
    {
     "data": {
      "text/plain": [
       "[1, 2, 3, 4, 6.8, 5, 6, 7, 8, 9]"
      ]
     },
     "execution_count": 91,
     "metadata": {},
     "output_type": "execute_result"
    }
   ],
   "source": [
    "# 10.1, sorting and searching\n",
    "# Assume A, B both sorted arrays, write method to merge the two\n",
    "# Approach -> search in A for B[0] element, insert B[0] at this location\n",
    "import math\n",
    "    \n",
    "# @interact(A = [1,3,5,7,8,12], B = [4,6.5,10])\n",
    "def merge_sorted_arrays(A,B):\n",
    "    \"\"\"\n",
    "    Accepts two sorted arrays, A and B, and merges them together\n",
    "    \n",
    "    \"\"\"\n",
    "    def insert_into_array(array, elem, lp = 0, rp = None):\n",
    "        \"\"\"\n",
    "        insert into array between left pointer: lp and right pointer: rp\n",
    "        \"\"\"\n",
    "        if not rp:\n",
    "            rp = len(array)\n",
    "        # Base case\n",
    "        if rp-lp == 1:\n",
    "            array.insert(lp,elem)\n",
    "            return\n",
    "        # Recursion loop\n",
    "        print(lp,rp)\n",
    "        print('Comparison: '+str(array[int(lp+rp/2)])+' <=> '+ str(elem))\n",
    "        if elem <= array[int(lp+rp/2)]:\n",
    "            rp = math.ceil((lp+rp)/2)\n",
    "            print('Left')\n",
    "            # If elem less than midpoint, recurse left\n",
    "            insert_into_array(array, elem, lp=lp, rp=rp)\n",
    "        else:\n",
    "            lp = int((lp+rp)/2)\n",
    "            print('Right')\n",
    "            # If elem greater than midpoint, recurse right\n",
    "            insert_into_array(array, elem, lp = lp, rp=rp)\n",
    "#         return array\n",
    "    myarr = [1,2,3,4,5,6,7,8,9]\n",
    "    insert_into_array(myarr, 6.8)\n",
    "    return myarr\n",
    "merge_sorted_arrays(A = [1,3,5,7,8,12], B = [4,6.5,10])"
   ]
  }
 ],
 "metadata": {
  "kernelspec": {
   "display_name": "Python 3",
   "language": "python",
   "name": "python3"
  },
  "language_info": {
   "codemirror_mode": {
    "name": "ipython",
    "version": 3
   },
   "file_extension": ".py",
   "mimetype": "text/x-python",
   "name": "python",
   "nbconvert_exporter": "python",
   "pygments_lexer": "ipython3",
   "version": "3.7.3"
  }
 },
 "nbformat": 4,
 "nbformat_minor": 2
}
