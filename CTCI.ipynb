{
 "cells": [
  {
   "cell_type": "markdown",
   "metadata": {},
   "source": [
    "<h1>Practice Problems for CTCI\n"
   ]
  },
  {
   "cell_type": "code",
   "execution_count": 1,
   "metadata": {},
   "outputs": [],
   "source": [
    "from __future__ import print_function\n",
    "import numpy as np\n",
    "from collections import deque\n",
    "from ipywidgets import interact, interactive, fixed, interact_manual\n",
    "import ipywidgets as widgets"
   ]
  },
  {
   "cell_type": "code",
   "execution_count": 2,
   "metadata": {},
   "outputs": [
    {
     "data": {
      "application/vnd.jupyter.widget-view+json": {
       "model_id": "0d8c1a42d0534efead02a6ecb487ea7e",
       "version_major": 2,
       "version_minor": 0
      },
      "text/plain": [
       "interactive(children=(Text(value='hello', description='str_in'), Output()), _dom_classes=('widget-interact',))"
      ]
     },
     "metadata": {},
     "output_type": "display_data"
    }
   ],
   "source": [
    "# 1.1\n",
    "@interact(str_in = 'hello')\n",
    "def check_duplicates(str_in):\n",
    "    \"\"\"\n",
    "    Checks to see if a string has duplicates. Returns True if duplicates exist, false if not\n",
    "    \"\"\"\n",
    "    if len(set(str_in)) != len(list(str_in)):\n",
    "        return True\n",
    "    else: \n",
    "        return False\n",
    "\n",
    "# Order of complexity of this approach is O(convert str to list) + O(convert str to set), which I think \n",
    "# are each O(n), so total is O(n)"
   ]
  },
  {
   "cell_type": "code",
   "execution_count": 5,
   "metadata": {},
   "outputs": [
    {
     "data": {
      "application/vnd.jupyter.widget-view+json": {
       "model_id": "2b9511bade8245b68ecacca0b9b244eb",
       "version_major": 2,
       "version_minor": 0
      },
      "text/plain": [
       "interactive(children=(Text(value='sam', description='str_in_1'), Text(value='mas', description='str_in_2'), Ou…"
      ]
     },
     "metadata": {},
     "output_type": "display_data"
    }
   ],
   "source": [
    "# 1.2\n",
    "StrIn1 = 'zach'\n",
    "StrIn2 = 'cazh'\n",
    "\n",
    "# The first approach we came up with was to sort both strings and then compare the results\n",
    "# This approach is O(nlg(n))\n",
    "# print(sorted(StrIn1) == sorted(StrIn2))\n",
    "\n",
    "# The second approach is more complex to implement, but gets to O(n)\n",
    "@interact(str_in_1 = 'sam', str_in_2='mas')\n",
    "def permutation_check(str_in_1, str_in_2):\n",
    "    \"\"\"\n",
    "    Returns True if str_in_1 and str_in_2 are permutations of one another, else False\n",
    "    Total algo is O(n)\n",
    "    \"\"\"\n",
    "    char_dict = {}\n",
    "    # O(n)\n",
    "    for char in str_in_1:\n",
    "        # O(1)\n",
    "        if char in char_dict:\n",
    "            # O(1)\n",
    "            char_dict[char]+=1\n",
    "        else:\n",
    "            # O(1)\n",
    "            char_dict[char] = 1\n",
    "    print(char_dict)\n",
    "    # O(n)\n",
    "    for char in str_in_2:\n",
    "        # O(1)\n",
    "        if char in char_dict:\n",
    "            char_dict[char]-=1\n",
    "        else: \n",
    "            return False\n",
    "    print(char_dict)\n",
    "    for key in char_dict.keys():\n",
    "        if char_dict[key] != 0:\n",
    "            return False\n",
    "    return True\n",
    "        \n",
    "        \n",
    "        "
   ]
  },
  {
   "cell_type": "code",
   "execution_count": 6,
   "metadata": {},
   "outputs": [
    {
     "data": {
      "application/vnd.jupyter.widget-view+json": {
       "model_id": "8b1aa6c0d5d94a7d9f701da7a5ea526f",
       "version_major": 2,
       "version_minor": 0
      },
      "text/plain": [
       "interactive(children=(Text(value='a bfv vfv btb ksks vrkrkn cdknd', description='str_in'), Output()), _dom_cla…"
      ]
     },
     "metadata": {},
     "output_type": "display_data"
    }
   ],
   "source": [
    "# 1.3\n",
    "@interact(str_in ='a bfv vfv btb ksks vrkrkn cdknd' )\n",
    "def urlify(str_in):\n",
    "    \"\"\"\n",
    "    Converts all spaces in input string to %20 to work for URL encoding\n",
    "    O(n), because in Python list set is O(1) and list get is O(1)\n",
    "    \"\"\"\n",
    "    urlified_string = ''.join(['%20' if el== ' ' else el for el in str_in])\n",
    "    return urlified_string\n"
   ]
  },
  {
   "cell_type": "code",
   "execution_count": 8,
   "metadata": {},
   "outputs": [
    {
     "ename": "SyntaxError",
     "evalue": "invalid syntax (<ipython-input-8-84a99df2e8c6>, line 3)",
     "output_type": "error",
     "traceback": [
      "\u001b[0;36m  File \u001b[0;32m\"<ipython-input-8-84a99df2e8c6>\"\u001b[0;36m, line \u001b[0;32m3\u001b[0m\n\u001b[0;31m    @interact(str_in = 'happys'):\u001b[0m\n\u001b[0m                                ^\u001b[0m\n\u001b[0;31mSyntaxError\u001b[0m\u001b[0;31m:\u001b[0m invalid syntax\n"
     ]
    }
   ],
   "source": [
    "# 1.4\n",
    "# The key here is to build a dict of the character values, then run through the \n",
    "@interact(str_in = 'happys'):\n",
    "def check_palindrome(str_in):\n",
    "    \"\"\"\n",
    "    Returns true if the input string characters have a palindromic form, else returns False\n",
    "    \"\"\"\n",
    "    char_dict = {}\n",
    "    # O(n)\n",
    "    for char in str_in_1:\n",
    "        # O(1)\n",
    "        if char in char_dict:\n",
    "            # O(1)\n",
    "            char_dict[char]+=1\n",
    "        else:\n",
    "            # O(1)\n",
    "            char_dict[char] = 1"
   ]
  },
  {
   "cell_type": "code",
   "execution_count": 45,
   "metadata": {},
   "outputs": [
    {
     "data": {
      "text/plain": [
       "[[4, 8, 12, 16], [3, 7, 11, 15], [2, 6, 10, 14], [1, 5, 9, 13]]"
      ]
     },
     "execution_count": 45,
     "metadata": {},
     "output_type": "execute_result"
    }
   ],
   "source": [
    "# 1.7 \n",
    "# Transpose then flip over horizontal axis\n",
    "# Lol I cant do this in place\n",
    "\n",
    "def matrix_rotate(mat):\n",
    "    n = len(mat)\n",
    "    # Create new array\n",
    "    rotated = [[0]*n for _ in range(n)]\n",
    "    for i in range(n):\n",
    "        for j in range(n):\n",
    "            rotated[i][j] = mat[j][(n-1)-i]\n",
    "    return rotated\n",
    "\n",
    "matrix_rotate([[1, 2, 3, 4], [5, 6, 7, 8], [9, 10, 11, 12], [13, 14, 15, 16]])\n"
   ]
  },
  {
   "cell_type": "code",
   "execution_count": null,
   "metadata": {},
   "outputs": [],
   "source": [
    "# 1.8 \n",
    "# Brute force -> O(M*N), via looking through all elements and performing the operations if 0 found\n",
    "# Better approach: Create enumerable of columns and rows, if 0 found, remove from column and row\n",
    "# Time efficiency? Not sure\n",
    "\n",
    "# Alternative: Sort each row"
   ]
  },
  {
   "cell_type": "code",
   "execution_count": 9,
   "metadata": {},
   "outputs": [
    {
     "data": {
      "application/vnd.jupyter.widget-view+json": {
       "model_id": "f6c8b4dfd75e48a393ac98ca6a8d612a",
       "version_major": 2,
       "version_minor": 0
      },
      "text/plain": [
       "interactive(children=(Text(value='helloworld', description='s1'), Text(value='oworldhell', description='s2'), …"
      ]
     },
     "metadata": {},
     "output_type": "display_data"
    },
    {
     "data": {
      "application/vnd.jupyter.widget-view+json": {
       "model_id": "8e3f79be0fc44dc38028f570a16d5ebe",
       "version_major": 2,
       "version_minor": 0
      },
      "text/plain": [
       "interactive(children=(Text(value='helloworld', description='s1'), Text(value='oworldhell', description='s2'), …"
      ]
     },
     "metadata": {},
     "output_type": "display_data"
    }
   ],
   "source": [
    "# 1.9\n",
    "# Check to see if two strings are rotations of one another\n",
    "@interact(s1 = 'helloworld', s2 = 'oworldhell')\n",
    "def rotation_check(s1,s2):\n",
    "    \"\"\"\n",
    "    returns True if the strings are rotations of one another, False if not\n",
    "    \"\"\"\n",
    "    runner = 0\n",
    "    # Quick check for O(1)\n",
    "    if len(s1)!=len(s2):\n",
    "        return False\n",
    "    # Somewhat recursive through string compares\n",
    "    for i in range(len(s2)):\n",
    "        print(s2[i])\n",
    "        # Cost is O(1)\n",
    "        if s2[i]==s1[0]:\n",
    "            print(s2[i:] +s2[0:i])\n",
    "            # Cost is O(n) potentially, but will only manifest for the solution, typically much less\n",
    "            if s2[i:]+s2[0:i]  == s1:\n",
    "                return True\n",
    "    return False\n",
    "\n",
    "# algorithm implemented according to the solutions (faster)\n",
    "@interact(s1 = 'helloworld', s2 = 'oworldhell')\n",
    "def rotation_check(s1,s2):\n",
    "    \"\"\"\n",
    "    This is so clever I dig it\n",
    "    \"\"\"\n",
    "    if s2 in s1+s1:\n",
    "        return True\n",
    "    else: \n",
    "        return False"
   ]
  },
  {
   "cell_type": "code",
   "execution_count": 17,
   "metadata": {},
   "outputs": [
    {
     "name": "stdout",
     "output_type": "stream",
     "text": [
      "5\n",
      "67\n",
      "3\n",
      "2\n",
      "34\n",
      "5\n",
      "6\n",
      "7\n",
      "4\n",
      "2\n",
      "1\n",
      "67\n",
      "3\n",
      "2\n",
      "34\n",
      "5\n",
      "6\n",
      "7\n",
      "4\n",
      "2\n",
      "1\n",
      "5\n",
      "3\n",
      "2\n",
      "34\n",
      "5\n",
      "6\n",
      "7\n",
      "4\n",
      "2\n",
      "1\n",
      "5\n",
      "67\n",
      "2\n",
      "34\n",
      "5\n",
      "6\n",
      "7\n",
      "4\n",
      "2\n",
      "1\n",
      "5\n",
      "67\n",
      "3\n",
      "34\n",
      "5\n",
      "6\n",
      "7\n",
      "4\n",
      "2\n",
      "1\n",
      "5\n",
      "67\n",
      "3\n",
      "2\n",
      "5\n",
      "6\n",
      "7\n",
      "4\n",
      "2\n",
      "1\n",
      "5\n",
      "67\n",
      "3\n",
      "2\n",
      "34\n",
      "6\n",
      "7\n",
      "4\n",
      "2\n",
      "1\n",
      "5\n",
      "67\n",
      "3\n",
      "2\n",
      "34\n",
      "5\n",
      "7\n",
      "4\n",
      "2\n",
      "1\n",
      "5\n",
      "67\n",
      "3\n",
      "2\n",
      "34\n",
      "5\n",
      "6\n",
      "4\n",
      "2\n",
      "1\n",
      "5\n",
      "67\n",
      "3\n",
      "2\n",
      "34\n",
      "5\n",
      "6\n",
      "7\n",
      "2\n",
      "1\n",
      "5\n",
      "67\n",
      "3\n",
      "2\n",
      "34\n",
      "5\n",
      "6\n",
      "7\n",
      "4\n"
     ]
    }
   ],
   "source": [
    "# Example on pg 67\n",
    "arr = [1,5,67,3,2,34,5,6,7,4,2]\n",
    "for i in range(len(arr)):\n",
    "    elem = arr[i]\n",
    "    for j in arr[0:i] +arr[i+1:]:\n",
    "        print(j)\n",
    "        "
   ]
  },
  {
   "cell_type": "code",
   "execution_count": 32,
   "metadata": {},
   "outputs": [
    {
     "name": "stdout",
     "output_type": "stream",
     "text": [
      "1->2->3->4->5->6->7->8->9->10->11->12->13\n"
     ]
    }
   ],
   "source": [
    "# 2.1\n",
    "# Establishing the structure for the linked list\n",
    "class node:\n",
    "    def __init__(self, data):\n",
    "        self.data = data\n",
    "        self.next = None\n",
    "\n",
    "    def __str__(self):\n",
    "        if self.next:\n",
    "            return str(self.data) + \"->\" + str(self.next)\n",
    "        else:\n",
    "            return str(self.data)\n",
    "\n",
    "\n",
    "    def append(self, data):\n",
    "        if self.next:\n",
    "            self.next.append(data)\n",
    "        else:\n",
    "            self.next = node(data)\n",
    "            \n",
    "def linked_listify(a_list):\n",
    "    ll = node(a_list[0])\n",
    "    for i in a_list[1:]:\n",
    "        ll.append(i)\n",
    "    return ll\n",
    "ex_list = [1,2,3,4,5,6,7,8,9,10,11,12,13]\n",
    "ll = linked_listify(ex_list)\n",
    "print(ll)"
   ]
  },
  {
   "cell_type": "code",
   "execution_count": 4,
   "metadata": {},
   "outputs": [
    {
     "name": "stdout",
     "output_type": "stream",
     "text": [
      "11\n"
     ]
    }
   ],
   "source": [
    "# 2.2\n",
    "# Find the kth element from the end of the list          \n",
    "def linked_listify(a_list):\n",
    "    ll = node(a_list[0])\n",
    "    for i in a_list[1:]:\n",
    "        ll.append(i)\n",
    "    return ll\n",
    "\n",
    "ex_list = [1,2,3,4,5,6,7,8,9,10,11,12,13]\n",
    "ll = linked_listify(ex_list)\n",
    "el = ll\n",
    "\n",
    "k=3\n",
    "counter=1\n",
    "while el.next:\n",
    "    counter +=1\n",
    "    el = el.next\n",
    "el = ll\n",
    "for i in range(counter-k):\n",
    "    el=el.next\n",
    "\n",
    "print(el.data)\n",
    "\n",
    "# Just go through the ll while keeping a count of how long the list is, then go through again, stopping at len-k iterations\n"
   ]
  },
  {
   "cell_type": "code",
   "execution_count": 26,
   "metadata": {},
   "outputs": [
    {
     "name": "stdout",
     "output_type": "stream",
     "text": [
      "1->2->3->5->6->7->8->9->10->11->12->13\n"
     ]
    }
   ],
   "source": [
    "# 2.3 \n",
    "# Access the kth element\n",
    "ll = linked_listify([1,2,3,4,5,6,7,8,9,10,11,12,13])\n",
    "k = 3\n",
    "el = ll\n",
    "for i in range(k):\n",
    "    ll=ll.next\n",
    "ll.data = ll.next.data\n",
    "ll.next = ll.next.next\n",
    "# new_el = linked_listify(dat[:-1])\n",
    "# new_el.append(el)\n",
    "print(el)\n",
    "\n",
    "# Removes the element by changing its data to the next's data, then changing its pointer to the next's pointer"
   ]
  },
  {
   "cell_type": "code",
   "execution_count": 30,
   "metadata": {},
   "outputs": [
    {
     "name": "stdout",
     "output_type": "stream",
     "text": [
      "1->5->7->4->3->6\n",
      "1->4->3->5->7->6\n",
      ":)\n"
     ]
    }
   ],
   "source": [
    "# 2.4 \n",
    "# Partition a linked list such that all elements left of an index are less than the partition value, and all elements right of the index are greater than a certain value\n",
    "# This is an essential part of quicksort, as demonstrated by Zach\n",
    "\n",
    "def partition(ll,p): # ll is the linked list, p is the partition value\n",
    "    current = ll\n",
    "    prior = ll\n",
    "    while current: # This works because we defined node.next = None\n",
    "        if current.data < p:\n",
    "            buff = current.data\n",
    "            current.data=prior.data\n",
    "            prior.data = buff\n",
    "        if prior.data < p:\n",
    "            prior = prior.next\n",
    "        current = current.next\n",
    "    return\n",
    "\n",
    "ll = linked_listify([1,5,7,4,3,6])\n",
    "print(ll)\n",
    "partition(ll,5)\n",
    "print(ll)\n",
    "print(':)')\n"
   ]
  },
  {
   "cell_type": "code",
   "execution_count": null,
   "metadata": {},
   "outputs": [],
   "source": [
    "# 2.5\n",
    "# "
   ]
  },
  {
   "cell_type": "markdown",
   "metadata": {},
   "source": [
    "<h3> Chapter 3: Stacks and Queues"
   ]
  },
  {
   "cell_type": "code",
   "execution_count": 61,
   "metadata": {},
   "outputs": [
    {
     "name": "stdout",
     "output_type": "stream",
     "text": [
      "low\n",
      "-\n",
      "he\n",
      "-\n",
      "1\n",
      "-\n",
      "\n",
      "low\n",
      "he\n",
      "-\n",
      "1\n",
      "-\n",
      "\n"
     ]
    }
   ],
   "source": [
    "# Implement a stack data structure\n",
    "class mystack:\n",
    "    def __init__(self, init_val):\n",
    "        # Implement a check to ensure that the init_val has length 1\n",
    "        self.data = [init_val]\n",
    "        \n",
    "    def __str__(self):\n",
    "        ret = ''\n",
    "        for i in self.data[::-1]:\n",
    "            ret+=(str(i)+'\\n-\\n')\n",
    "        return ret\n",
    "            \n",
    "    def check_not_empty(self):\n",
    "        if len(self.data) >=1:\n",
    "            return True\n",
    "        else:\n",
    "            print('No data in stack')\n",
    "            raise Exception('Tried to access data in an empty stack')\n",
    "        \n",
    "    def pop(self):\n",
    "        if self.check_not_empty():\n",
    "            return self.data.pop()\n",
    "\n",
    "    def peek(self):\n",
    "        if self.check_not_empty():\n",
    "            return self.data[-1]\n",
    "    \n",
    "    def add(self, elem):\n",
    "        if self.check_not_empty():\n",
    "            self.data.append(elem)\n",
    "        \n",
    "me = mystack(1)\n",
    "me.add('he')\n",
    "me.add('low')\n",
    "\n",
    "print(me)\n",
    "print(me.pop())\n",
    "print(me)"
   ]
  },
  {
   "cell_type": "markdown",
   "metadata": {},
   "source": [
    "<h3>Assorted Questions"
   ]
  },
  {
   "cell_type": "code",
   "execution_count": 91,
   "metadata": {},
   "outputs": [
    {
     "name": "stdout",
     "output_type": "stream",
     "text": [
      "0 9\n",
      "Comparison: 5 <=> 6.8\n",
      "Right\n",
      "4 9\n",
      "Comparison: 9 <=> 6.8\n",
      "Left\n",
      "4 7\n",
      "Comparison: 8 <=> 6.8\n",
      "Left\n",
      "4 6\n",
      "Comparison: 8 <=> 6.8\n",
      "Left\n"
     ]
    },
    {
     "data": {
      "text/plain": [
       "[1, 2, 3, 4, 6.8, 5, 6, 7, 8, 9]"
      ]
     },
     "execution_count": 91,
     "metadata": {},
     "output_type": "execute_result"
    }
   ],
   "source": [
    "# 10.1, sorting and searching\n",
    "# Assume A, B both sorted arrays, write method to merge the two\n",
    "# Approach -> search in A for B[0] element, insert B[0] at this location\n",
    "import math\n",
    "    \n",
    "# @interact(A = [1,3,5,7,8,12], B = [4,6.5,10])\n",
    "def merge_sorted_arrays(A,B):\n",
    "    \"\"\"\n",
    "    Accepts two sorted arrays, A and B, and merges them together\n",
    "    \n",
    "    \"\"\"\n",
    "    def insert_into_array(array, elem, lp = 0, rp = None):\n",
    "        \"\"\"\n",
    "        insert into array between left pointer: lp and right pointer: rp\n",
    "        \"\"\"\n",
    "        if not rp:\n",
    "            rp = len(array)\n",
    "        # Base case\n",
    "        if rp-lp == 1:\n",
    "            array.insert(lp,elem)\n",
    "            return\n",
    "        # Recursion loop\n",
    "        print(lp,rp)\n",
    "        print('Comparison: '+str(array[int(lp+rp/2)])+' <=> '+ str(elem))\n",
    "        if elem <= array[int(lp+rp/2)]:\n",
    "            rp = math.ceil((lp+rp)/2)\n",
    "            print('Left')\n",
    "            # If elem less than midpoint, recurse left\n",
    "            insert_into_array(array, elem, lp=lp, rp=rp)\n",
    "        else:\n",
    "            lp = int((lp+rp)/2)\n",
    "            print('Right')\n",
    "            # If elem greater than midpoint, recurse right\n",
    "            insert_into_array(array, elem, lp = lp, rp=rp)\n",
    "#         return array\n",
    "    myarr = [1,2,3,4,5,6,7,8,9]\n",
    "    insert_into_array(myarr, 6.8)\n",
    "    return myarr\n",
    "merge_sorted_arrays(A = [1,3,5,7,8,12], B = [4,6.5,10])"
   ]
  }
 ],
 "metadata": {
  "kernelspec": {
   "display_name": "interactive_kernel",
   "language": "python",
   "name": "interactive_kernel"
  },
  "language_info": {
   "codemirror_mode": {
    "name": "ipython",
    "version": 3
   },
   "file_extension": ".py",
   "mimetype": "text/x-python",
   "name": "python",
   "nbconvert_exporter": "python",
   "pygments_lexer": "ipython3",
   "version": "3.7.3"
  }
 },
 "nbformat": 4,
 "nbformat_minor": 2
}
